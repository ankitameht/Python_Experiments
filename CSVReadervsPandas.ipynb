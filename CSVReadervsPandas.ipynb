{
 "cells": [
  {
   "cell_type": "markdown",
   "metadata": {},
   "source": [
    "# Testing CSV Reader"
   ]
  },
  {
   "cell_type": "code",
   "execution_count": 1,
   "metadata": {
    "collapsed": true
   },
   "outputs": [],
   "source": [
    "import csv"
   ]
  },
  {
   "cell_type": "code",
   "execution_count": 2,
   "metadata": {
    "collapsed": true
   },
   "outputs": [],
   "source": [
    "file_object = open(\"stroopdata.csv\", 'r')\n",
    "input_file = csv.DictReader(file_object)"
   ]
  },
  {
   "cell_type": "code",
   "execution_count": 3,
   "metadata": {},
   "outputs": [
    {
     "name": "stdout",
     "output_type": "stream",
     "text": [
      "{'Congruent': '12.079', 'Incongruent': '19.278'}\n",
      "{'Congruent': '16.791', 'Incongruent': '18.741'}\n",
      "{'Congruent': '9.564', 'Incongruent': '21.214'}\n",
      "{'Congruent': '8.630', 'Incongruent': '15.687'}\n",
      "{'Congruent': '14.669', 'Incongruent': '22.803'}\n",
      "{'Congruent': '12.238', 'Incongruent': '20.878'}\n",
      "{'Congruent': '14.692', 'Incongruent': '24.572'}\n",
      "{'Congruent': '8.987', 'Incongruent': '17.394'}\n",
      "{'Congruent': '9.401', 'Incongruent': '20.762'}\n",
      "{'Congruent': '14.480', 'Incongruent': '26.282'}\n",
      "{'Congruent': '22.328', 'Incongruent': '24.524'}\n",
      "{'Congruent': '15.298', 'Incongruent': '18.644'}\n",
      "{'Congruent': '15.073', 'Incongruent': '17.510'}\n",
      "{'Congruent': '16.929', 'Incongruent': '20.330'}\n",
      "{'Congruent': '18.200', 'Incongruent': '35.255'}\n",
      "{'Congruent': '12.130', 'Incongruent': '22.158'}\n",
      "{'Congruent': '18.495', 'Incongruent': '25.139'}\n",
      "{'Congruent': '10.639', 'Incongruent': '20.429'}\n",
      "{'Congruent': '11.344', 'Incongruent': '17.425'}\n",
      "{'Congruent': '12.369', 'Incongruent': '34.288'}\n",
      "{'Congruent': '12.944', 'Incongruent': '23.894'}\n",
      "{'Congruent': '14.233', 'Incongruent': '17.960'}\n",
      "{'Congruent': '19.710', 'Incongruent': '22.058'}\n",
      "{'Congruent': '16.004', 'Incongruent': '21.157'}\n"
     ]
    }
   ],
   "source": [
    "for row in input_file:\n",
    "    print row"
   ]
  },
  {
   "cell_type": "code",
   "execution_count": 4,
   "metadata": {},
   "outputs": [
    {
     "name": "stdout",
     "output_type": "stream",
     "text": [
      "['Congruent', 'Incongruent']\n"
     ]
    }
   ],
   "source": [
    "print(input_file.fieldnames)"
   ]
  },
  {
   "cell_type": "markdown",
   "metadata": {},
   "source": [
    "# Testing Pandas Csv Reader"
   ]
  },
  {
   "cell_type": "code",
   "execution_count": 5,
   "metadata": {
    "collapsed": true
   },
   "outputs": [],
   "source": [
    "import pandas as pd"
   ]
  },
  {
   "cell_type": "code",
   "execution_count": 20,
   "metadata": {},
   "outputs": [],
   "source": [
    "input_df = pd.read_csv(\"stroopdata.csv\",'r')"
   ]
  },
  {
   "cell_type": "code",
   "execution_count": 19,
   "metadata": {},
   "outputs": [
    {
     "name": "stdout",
     "output_type": "stream",
     "text": [
      "             Cong  uent,Incong  uent\n",
      "0   12.079,19.278          NaN   NaN\n",
      "1   16.791,18.741          NaN   NaN\n",
      "2    9.564,21.214          NaN   NaN\n",
      "3    8.630,15.687          NaN   NaN\n",
      "4   14.669,22.803          NaN   NaN\n",
      "5   12.238,20.878          NaN   NaN\n",
      "6   14.692,24.572          NaN   NaN\n",
      "7    8.987,17.394          NaN   NaN\n",
      "8    9.401,20.762          NaN   NaN\n",
      "9   14.480,26.282          NaN   NaN\n",
      "10  22.328,24.524          NaN   NaN\n",
      "11  15.298,18.644          NaN   NaN\n",
      "12  15.073,17.510          NaN   NaN\n",
      "13  16.929,20.330          NaN   NaN\n",
      "14  18.200,35.255          NaN   NaN\n",
      "15  12.130,22.158          NaN   NaN\n",
      "16  18.495,25.139          NaN   NaN\n",
      "17  10.639,20.429          NaN   NaN\n",
      "18  11.344,17.425          NaN   NaN\n",
      "19  12.369,34.288          NaN   NaN\n",
      "20  12.944,23.894          NaN   NaN\n",
      "21  14.233,17.960          NaN   NaN\n",
      "22  19.710,22.058          NaN   NaN\n",
      "23  16.004,21.157          NaN   NaN\n"
     ]
    }
   ],
   "source": [
    "print input_df"
   ]
  },
  {
   "cell_type": "code",
   "execution_count": null,
   "metadata": {
    "collapsed": true
   },
   "outputs": [],
   "source": []
  }
 ],
 "metadata": {
  "kernelspec": {
   "display_name": "Python 2",
   "language": "python",
   "name": "python2"
  },
  "language_info": {
   "codemirror_mode": {
    "name": "ipython",
    "version": 2
   },
   "file_extension": ".py",
   "mimetype": "text/x-python",
   "name": "python",
   "nbconvert_exporter": "python",
   "pygments_lexer": "ipython2",
   "version": "2.7.13"
  }
 },
 "nbformat": 4,
 "nbformat_minor": 2
}
